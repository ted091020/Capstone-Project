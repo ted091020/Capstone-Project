{
 "cells": [
  {
   "cell_type": "code",
   "execution_count": 1,
   "metadata": {
    "_cell_guid": "b1076dfc-b9ad-4769-8c92-a6c4dae69d19",
    "_uuid": "8f2839f25d086af736a60e9eeb907d3b93b6e0e5"
   },
   "outputs": [],
   "source": [
    "# This Python 3 environment comes with many helpful analytics libraries installed\n",
    "# It is defined by the kaggle/python docker image: https://github.com/kaggle/docker-python\n",
    "# For example, here's several helpful packages to load in \n",
    "\n",
    "import numpy as np # linear algebra\n",
    "import pandas as pd # data processing, CSV file I/O (e.g. pd.read_csv)\n",
    "\n",
    "from scipy import stats\n",
    "import sklearn\n",
    "from sklearn import preprocessing\n",
    "import matplotlib.pyplot as plt\n",
    "import random\n",
    "from sklearn.model_selection import KFold\n",
    "from sklearn.model_selection import train_test_split\n",
    "from sklearn.model_selection import cross_val_score\n",
    "import lightgbm as lgb\n",
    "import gc\n",
    "import pickle\n",
    "import tqdm\n",
    "from string import punctuation\n",
    "import re\n",
    "import datetime\n",
    "import seaborn\n",
    "\n",
    "pd.set_option('display.max_columns', 99999)\n",
    "\n"
   ]
  },
  {
   "cell_type": "code",
   "execution_count": 2,
   "metadata": {
    "_cell_guid": "79c7e3d0-c299-4dcb-8224-4455121ee9b0",
    "_uuid": "d629ff2d2480ee46fbb7e2d37f6b5fab8052498a"
   },
   "outputs": [],
   "source": [
    "plays_df = pd.read_csv(r'C:\\Users\\Evan\\Desktop\\Capstone_Project\\plays_df.csv', index_col='Unnamed: 0')"
   ]
  },
  {
   "cell_type": "code",
   "execution_count": 3,
   "metadata": {},
   "outputs": [
    {
     "name": "stdout",
     "output_type": "stream",
     "text": [
      "PossessionTeam\n",
      "OffensePersonnel\n",
      "DefensePersonnel\n",
      "TimeHandoff\n",
      "TimeSnap\n",
      "HomeTeamAbbr\n",
      "VisitorTeamAbbr\n",
      "Stadium\n",
      "Location\n",
      "Position_1\n",
      "Position_2\n",
      "Position_3\n",
      "Position_4\n",
      "Position_5\n",
      "Position_6\n",
      "Position_7\n",
      "Position_8\n",
      "Position_9\n",
      "Position_10\n",
      "Position_11\n",
      "Position_12\n",
      "Position_13\n",
      "Position_14\n",
      "Position_15\n",
      "Position_16\n",
      "Position_17\n",
      "Position_18\n",
      "Position_19\n",
      "Position_20\n",
      "Position_21\n",
      "Position_22\n",
      "RunningAngle\n",
      "TrenchBattle\n",
      "Space\n",
      "DistanceCat\n",
      "LineOfScrimmage\n"
     ]
    }
   ],
   "source": [
    "object_cols = []\n",
    "\n",
    "for c in plays_df.columns:\n",
    "    if plays_df[c].dtype == 'object':\n",
    "        print(c)\n",
    "        object_cols.append(c)"
   ]
  },
  {
   "cell_type": "code",
   "execution_count": 4,
   "metadata": {},
   "outputs": [],
   "source": [
    "plays_df = pd.concat([plays_df, pd.get_dummies(plays_df['PossessionTeam'], prefix='Possession')], axis=1)"
   ]
  },
  {
   "cell_type": "code",
   "execution_count": 5,
   "metadata": {},
   "outputs": [],
   "source": [
    "for c in plays_df.columns:\n",
    "    if c == \"DefensePersonnel\":\n",
    "        arr = [[int(s[0]) for s in t.split(\", \")] for t in plays_df[\"DefensePersonnel\"]]\n",
    "        plays_df[\"DL\"] = np.array([a[0] for a in arr])\n",
    "        plays_df[\"LB\"] = np.array([a[1] for a in arr])\n",
    "        plays_df[\"DB\"] = np.array([a[2] for a in arr])\n",
    "\n",
    "    if c == 'OffensePersonnel':\n",
    "        arr = [[int(s[0]) for s in t.split(\", \")] for t in plays_df[\"OffensePersonnel\"]]\n",
    "        plays_df['WR'] = np.array([a[-1] for a in arr])\n",
    "        plays_df[\"TE\"] = np.array([a[-2] for a in arr])\n",
    "        plays_df[\"RB\"] = np.array([a[-3] for a in arr])\n",
    "        plays_df[\"OL\"] = np.array([10 - (a[-1] + a[-2] + a[-3]) for a in arr])"
   ]
  },
  {
   "cell_type": "code",
   "execution_count": 6,
   "metadata": {},
   "outputs": [],
   "source": [
    "plays_df = pd.concat([plays_df, pd.get_dummies(plays_df['Position_22'], prefix='Runner')], axis=1)"
   ]
  },
  {
   "cell_type": "code",
   "execution_count": 7,
   "metadata": {},
   "outputs": [],
   "source": [
    "\n",
    "\n",
    "plays_df = plays_df.drop(object_cols, axis=1)"
   ]
  },
  {
   "cell_type": "code",
   "execution_count": 8,
   "metadata": {
    "scrolled": true
   },
   "outputs": [
    {
     "name": "stdout",
     "output_type": "stream",
     "text": [
      "<class 'pandas.core.frame.DataFrame'>\n",
      "Int64Index: 31007 entries, 0 to 31006\n",
      "Columns: 411 entries, GameId to Runner_WR\n",
      "dtypes: bool(2), float64(224), int32(7), int64(136), uint8(42)\n",
      "memory usage: 87.5 MB\n"
     ]
    }
   ],
   "source": [
    "plays_df.info()"
   ]
  },
  {
   "cell_type": "code",
   "execution_count": 9,
   "metadata": {},
   "outputs": [],
   "source": [
    "y = np.array(plays_df['Yards'])\n",
    "X = plays_df.drop(['Yards'], axis=1)"
   ]
  },
  {
   "cell_type": "code",
   "execution_count": 10,
   "metadata": {},
   "outputs": [],
   "source": [
    "X_train, X_test, y_train, y_test = train_test_split(X, y, test_size=0.2, random_state=42)"
   ]
  },
  {
   "cell_type": "code",
   "execution_count": 11,
   "metadata": {},
   "outputs": [
    {
     "name": "stderr",
     "output_type": "stream",
     "text": [
      "C:\\Users\\Evan\\Anaconda3\\lib\\site-packages\\sklearn\\utils\\validation.py:595: DataConversionWarning: Data with input dtype int64 was converted to float64 by StandardScaler.\n",
      "  warnings.warn(msg, DataConversionWarning)\n",
      "C:\\Users\\Evan\\Anaconda3\\lib\\site-packages\\sklearn\\utils\\validation.py:595: DataConversionWarning: Data with input dtype int64 was converted to float64 by StandardScaler.\n",
      "  warnings.warn(msg, DataConversionWarning)\n"
     ]
    }
   ],
   "source": [
    "scaler = preprocessing.StandardScaler()\n",
    "scaler.fit(y_train.reshape(-1, 1))\n",
    "y_train = scaler.transform(y_train.reshape(-1,1)).flatten()"
   ]
  },
  {
   "cell_type": "code",
   "execution_count": 12,
   "metadata": {},
   "outputs": [
    {
     "name": "stderr",
     "output_type": "stream",
     "text": [
      "C:\\Users\\Evan\\Anaconda3\\lib\\site-packages\\sklearn\\utils\\validation.py:595: DataConversionWarning: Data with input dtype int64 was converted to float64 by StandardScaler.\n",
      "  warnings.warn(msg, DataConversionWarning)\n",
      "C:\\Users\\Evan\\Anaconda3\\lib\\site-packages\\sklearn\\utils\\validation.py:595: DataConversionWarning: Data with input dtype int64 was converted to float64 by StandardScaler.\n",
      "  warnings.warn(msg, DataConversionWarning)\n"
     ]
    }
   ],
   "source": [
    "scaler = preprocessing.StandardScaler()\n",
    "scaler.fit(y_test.reshape(-1, 1))\n",
    "y_test = scaler.transform(y_test.reshape(-1,1)).flatten()"
   ]
  },
  {
   "cell_type": "code",
   "execution_count": 16,
   "metadata": {},
   "outputs": [
    {
     "name": "stdout",
     "output_type": "stream",
     "text": [
      "Leaves : 2\n",
      "validation score: 0.014751620428285338\n",
      "Leaves : 3\n",
      "validation score: 0.014632581370873721\n",
      "Leaves : 4\n",
      "validation score: 0.014577518716339185\n",
      "Leaves : 5\n",
      "validation score: 0.01455679425144265\n",
      "Leaves : 10\n",
      "validation score: 0.014519234957289988\n",
      "Leaves : 15\n",
      "validation score: 0.01450699881183787\n",
      "Leaves : 20\n",
      "validation score: 0.014502298835439055\n",
      "Leaves : 25\n",
      "validation score: 0.014498854887215753\n",
      "Leaves : 30\n",
      "validation score: 0.014500637636884273\n",
      "Leaves : 35\n",
      "validation score: 0.014489880363316282\n",
      "Leaves : 40\n",
      "validation score: 0.014494296720449641\n",
      "Leaves : 45\n",
      "validation score: 0.01449520835380287\n",
      "Leaves : 50\n",
      "validation score: 0.014497254464217893\n",
      "Leaves : 55\n",
      "validation score: 0.014498409199798631\n",
      "Leaves : 60\n",
      "validation score: 0.014499523418341462\n",
      "Leaves : 65\n",
      "validation score: 0.014499097989443288\n",
      "Leaves : 70\n",
      "validation score: 0.014493972584146305\n",
      "Leaves : 75\n",
      "validation score: 0.014493445862653314\n",
      "Leaves : 80\n",
      "validation score: 0.014489900621835241\n",
      "Leaves : 85\n",
      "validation score: 0.014495208353802873\n",
      "Leaves : 90\n",
      "validation score: 0.014483742032071282\n",
      "Leaves : 95\n",
      "validation score: 0.014495026027132233\n",
      "Best Param : 90\n"
     ]
    }
   ],
   "source": [
    "leaf_space = [2, 3, 4] + list(range(5, 100, 5))\n",
    "val_scores = []\n",
    "params = []\n",
    "\n",
    "\n",
    "for leaves in leaf_space:\n",
    "    folds = 10\n",
    "    seed = 222\n",
    "    kf = KFold(n_splits = folds, shuffle = True, random_state=seed)\n",
    "    y_valid_pred = np.zeros(X_train.shape[0])\n",
    "    models = []\n",
    "    # Do k-fold cross validation\n",
    "    for tr_idx, val_idx in kf.split(X_train, y_train):\n",
    "        tr_x, tr_y = X_train.iloc[tr_idx,:], y_train[tr_idx]\n",
    "        vl_x, vl_y = X_train.iloc[val_idx,:], y_train[val_idx]\n",
    "\n",
    "        # print(len(tr_x),len(vl_x))\n",
    "        tr_data = lgb.Dataset(tr_x, label=tr_y)\n",
    "        vl_data = lgb.Dataset(vl_x, label=vl_y)  \n",
    "        clf = lgb.LGBMRegressor(n_estimators=200,learning_rate=0.01, num_leaves=leaves)\n",
    "        clf.fit(tr_x, tr_y,\n",
    "            eval_set=[(vl_x, vl_y)],\n",
    "            early_stopping_rounds=20,\n",
    "            verbose=False)\n",
    "        # Save the validation predicted value of the best iteration\n",
    "        y_valid_pred[val_idx] += clf.predict(vl_x, num_iteration=clf.best_iteration_)\n",
    "        models.append(clf)\n",
    "        \n",
    "        \n",
    "    # Calculate the validation score\n",
    "    y_pred = np.zeros((len(y_train),199))\n",
    "    y_ans = np.zeros((len(y_train),199))\n",
    "\n",
    "    for i,p in enumerate(np.round(scaler.inverse_transform(y_valid_pred))):\n",
    "        p+=99\n",
    "        for j in range(199):\n",
    "            if j>=p+10:\n",
    "                y_pred[i][j]=1.0\n",
    "            elif j>=p-10:\n",
    "                y_pred[i][j]=(j+10-p)*0.05\n",
    "\n",
    "    for i,p in enumerate(scaler.inverse_transform(y_train)):\n",
    "        p+=99\n",
    "        for j in range(199):\n",
    "            if j>=p:\n",
    "                y_ans[i][j]=1.0\n",
    "    \n",
    "    print('Leaves : {}'.format(leaves))\n",
    "    print(\"validation score:\",np.sum(np.power(y_pred-y_ans,2))/(199*(len(y_train))))\n",
    "    val_scores.append(np.sum(np.power(y_pred-y_ans,2))/(199*(len(y_train))))            \n",
    "    params.append(leaves)\n",
    "        \n",
    "print('Best Param : {}'.format(params[val_scores.index(min(val_scores))])) "
   ]
  },
  {
   "cell_type": "code",
   "execution_count": 17,
   "metadata": {},
   "outputs": [],
   "source": [
    "data = list(zip(params, val_scores))\n",
    "scores_df = pd.DataFrame(data, columns=['params', 'val_scores'])\n",
    "\n"
   ]
  },
  {
   "cell_type": "code",
   "execution_count": 27,
   "metadata": {},
   "outputs": [
    {
     "data": {
      "image/png": "[encoded data removed]",
      "text/plain": [
       "<Figure size 1080x720 with 1 Axes>"
      ]
     },
     "metadata": {
      "needs_background": "light"
     },
     "output_type": "display_data"
    }
   ],
   "source": [
    "plt.rcParams[\"figure.figsize\"] = (15,10)\n",
    "plt.plot('params', 'val_scores', data=scores_df)\n",
    "plt.xlabel('Number of leaves per tree', size=20)\n",
    "plt.ylabel('CRPS', size=20)\n",
    "plt.xticks(list(range(0,100,5)))\n",
    "plt.title('Model Scores for Different Number of Leaves per Tree', size=20)\n",
    "plt.savefig(r'C:\\Users\\Evan\\Desktop\\Capstone_Project\\Images\\LeavesTuning.png')\n",
    "plt.show()\n"
   ]
  },
  {
   "cell_type": "code",
   "execution_count": 28,
   "metadata": {},
   "outputs": [
    {
     "name": "stdout",
     "output_type": "stream",
     "text": [
      "Trees : 200\n",
      "Learning Rate: 0.0001\n",
      "validation score: 0.014837678616829364\n",
      "Trees : 300\n",
      "Learning Rate: 0.0001\n",
      "validation score: 0.014835997159755632\n",
      "Trees : 400\n",
      "Learning Rate: 0.0001\n",
      "validation score: 0.014834781648618015\n",
      "Trees : 500\n",
      "Learning Rate: 0.0001\n",
      "validation score: 0.014834396736757759\n",
      "Trees : 200\n",
      "Learning Rate: 0.001\n",
      "validation score: 0.014775019017684672\n",
      "Trees : 300\n",
      "Learning Rate: 0.001\n",
      "validation score: 0.014701075423479025\n",
      "Trees : 400\n",
      "Learning Rate: 0.001\n",
      "validation score: 0.014667648867194275\n",
      "Trees : 500\n",
      "Learning Rate: 0.001\n",
      "validation score: 0.014643946400010535\n",
      "Trees : 200\n",
      "Learning Rate: 0.01\n",
      "validation score: 0.014517512983178337\n",
      "Trees : 300\n",
      "Learning Rate: 0.01\n",
      "validation score: 0.014514656532004915\n",
      "Trees : 400\n",
      "Learning Rate: 0.01\n",
      "validation score: 0.014512914299374319\n",
      "Trees : 500\n",
      "Learning Rate: 0.01\n",
      "validation score: 0.014512914299374319\n",
      "Trees : 200\n",
      "Learning Rate: 0.1\n",
      "validation score: 0.014593178551495632\n",
      "Trees : 300\n",
      "Learning Rate: 0.1\n",
      "validation score: 0.014593178551495632\n",
      "Trees : 400\n",
      "Learning Rate: 0.1\n",
      "validation score: 0.014593178551495632\n",
      "Trees : 500\n",
      "Learning Rate: 0.1\n",
      "validation score: 0.014593178551495632\n",
      "Best Param : (400, 0.01)\n"
     ]
    }
   ],
   "source": [
    "LR_space = [0.0001, 0.001, 0.01, 0.1]\n",
    "estimator_space = [200, 300, 400, 500]\n",
    "params = []\n",
    "scores = []\n",
    "\n",
    "for LR in LR_space:\n",
    "    for estimator in estimator_space:\n",
    "        folds = 5\n",
    "        seed = 222\n",
    "        kf = KFold(n_splits = folds, shuffle = True, random_state=seed)\n",
    "        y_valid_pred = np.zeros(X_train.shape[0])\n",
    "        models = []\n",
    "        # Do k-fold cross validation\n",
    "        for tr_idx, val_idx in kf.split(X_train, y_train):\n",
    "            tr_x, tr_y = X_train.iloc[tr_idx,:], y_train[tr_idx]\n",
    "            vl_x, vl_y = X_train.iloc[val_idx,:], y_train[val_idx]\n",
    "\n",
    "            # print(len(tr_x),len(vl_x))\n",
    "            tr_data = lgb.Dataset(tr_x, label=tr_y)\n",
    "            vl_data = lgb.Dataset(vl_x, label=vl_y)  \n",
    "            clf = lgb.LGBMRegressor(n_estimators=estimator,learning_rate=LR, num_leaves=90)\n",
    "            clf.fit(tr_x, tr_y,\n",
    "                eval_set=[(vl_x, vl_y)],\n",
    "                early_stopping_rounds=20,\n",
    "                verbose=False)\n",
    "            # Save the predicted value of the best iteration\n",
    "            y_valid_pred[val_idx] += clf.predict(vl_x, num_iteration=clf.best_iteration_)\n",
    "            models.append(clf)\n",
    "\n",
    "        # Fit the model to the test data\n",
    "        y_hat = clf.predict(X_test, num_iteration=clf.best_iteration_, raw_score=True)\n",
    "\n",
    "        # Calculate the test score\n",
    "        y_pred = np.zeros((len(plays_df),199))\n",
    "        y_ans = np.zeros((len(plays_df),199))\n",
    "\n",
    "        for i,p in enumerate(np.round(scaler.inverse_transform(y_valid_pred))):\n",
    "            p+=99\n",
    "            for j in range(199):\n",
    "                if j>=p+10:\n",
    "                    y_pred[i][j]=1.0\n",
    "                elif j>=p-10:\n",
    "                    y_pred[i][j]=(j+10-p)*0.05\n",
    "\n",
    "        for i,p in enumerate(scaler.inverse_transform(y_train)):\n",
    "            p+=99\n",
    "            for j in range(199):\n",
    "                if j>=p:\n",
    "                    y_ans[i][j]=1.0\n",
    "\n",
    "\n",
    "        print('Trees : {}'.format(estimator))\n",
    "        print('Learning Rate: {}'.format(LR))\n",
    "        print(\"validation score:\",np.sum(np.power(y_pred-y_ans,2))/(199*(len(y_train))))\n",
    "        scores.append(np.sum(np.power(y_pred-y_ans,2))/(199*(len(y_train))))\n",
    "        params.append((estimator, LR))\n",
    "        \n",
    "print('Best Param : {}'.format(params[scores.index(min(scores))])) "
   ]
  },
  {
   "cell_type": "code",
   "execution_count": 29,
   "metadata": {},
   "outputs": [],
   "source": [
    "# Fit a model with the best hyperparameters\n",
    "LR = 0.01\n",
    "leaves = 90\n",
    "estimators = 400\n",
    "\n",
    "model = lgb.LGBMRegressor(n_estimators=estimators, learning_rate=LR, num_leaves=leaves, importance_type='gain')\n",
    "\n",
    "model.fit(X_train, y_train)\n",
    "\n",
    "y_hat = model.predict(X_test, raw_score=True)"
   ]
  },
  {
   "cell_type": "code",
   "execution_count": 30,
   "metadata": {},
   "outputs": [
    {
     "name": "stdout",
     "output_type": "stream",
     "text": [
      "test score: 0.014782757709865025\n"
     ]
    }
   ],
   "source": [
    "# Evaluate the model using continuous ranked probability score (CRPS)\n",
    "y_pred = np.zeros((len(X_test),199))\n",
    "y_ans = np.zeros((len(X_test),199))\n",
    "\n",
    "for i,p in enumerate(np.round(scaler.inverse_transform(y_hat))):\n",
    "    p+=99\n",
    "    for j in range(199):\n",
    "        if j>=p+10:\n",
    "            y_pred[i][j]=1.0\n",
    "        elif j>=p-10:\n",
    "            y_pred[i][j]=(j+10-p)*0.05\n",
    "\n",
    "for i,p in enumerate(scaler.inverse_transform(y_test)):\n",
    "    p+=99\n",
    "    for j in range(199):\n",
    "        if j>=p:\n",
    "            y_ans[i][j]=1.0\n",
    "\n",
    "print(\"test score:\",np.sum(np.power(y_pred-y_ans,2))/(199*(len(X_test))))"
   ]
  },
  {
   "cell_type": "code",
   "execution_count": 36,
   "metadata": {},
   "outputs": [
    {
     "data": {
      "image/png": "[encoded data removed]",
      "text/plain": [
       "<Figure size 1080x720 with 1 Axes>"
      ]
     },
     "metadata": {
      "needs_background": "light"
     },
     "output_type": "display_data"
    }
   ],
   "source": [
    "plt.rcParams[\"figure.figsize\"] = (15,10)\n",
    "lgb.plot_importance(model, max_num_features = 10, importance_type='split')\n",
    "plt.title('Top 10 Most Important Features (Gain)')\n",
    "plt.grid(False)\n",
    "plt.savefig(r'C:\\Users\\Evan\\Desktop\\Capstone_Project\\Images\\FeatureImportance.png', bbox_inches='tight')\n",
    "plt.show()"
   ]
  },
  {
   "cell_type": "code",
   "execution_count": null,
   "metadata": {},
   "outputs": [],
   "source": []
  },
  {
   "cell_type": "code",
   "execution_count": null,
   "metadata": {},
   "outputs": [],
   "source": []
  },
  {
   "cell_type": "code",
   "execution_count": null,
   "metadata": {},
   "outputs": [],
   "source": []
  },
  {
   "cell_type": "code",
   "execution_count": null,
   "metadata": {},
   "outputs": [],
   "source": []
  },
  {
   "cell_type": "code",
   "execution_count": null,
   "metadata": {},
   "outputs": [],
   "source": []
  },
  {
   "cell_type": "code",
   "execution_count": null,
   "metadata": {},
   "outputs": [],
   "source": []
  },
  {
   "cell_type": "code",
   "execution_count": null,
   "metadata": {},
   "outputs": [],
   "source": []
  },
  {
   "cell_type": "code",
   "execution_count": null,
   "metadata": {},
   "outputs": [],
   "source": []
  }
 ],
 "metadata": {
  "kernelspec": {
   "display_name": "Python 3",
   "language": "python",
   "name": "python3"
  },
  "language_info": {
   "codemirror_mode": {
    "name": "ipython",
    "version": 3
   },
   "file_extension": ".py",
   "mimetype": "text/x-python",
   "name": "python",
   "nbconvert_exporter": "python",
   "pygments_lexer": "ipython3",
   "version": "3.7.3"
  }
 },
 "nbformat": 4,
 "nbformat_minor": 1
}
